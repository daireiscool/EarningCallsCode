{
 "cells": [
  {
   "cell_type": "code",
   "execution_count": null,
   "metadata": {},
   "outputs": [],
   "source": [
    "import openai\n",
    "import requests\n",
    "import copyleaks\n",
    "import numpy as np\n",
    "import os\n",
    "import json\n",
    "import plotly.express as px\n",
    "import pandas as pd\n",
    "pd.set_option('display.max_colwidth', 400)\n",
    "\n",
    "from DetectGPT.model import GPT2PPLV2 as GPT2PPL\n",
    "from GLTR.api import LM as GLTR\n",
    "from transformers import OpenAIGPTLMHeadModel, OpenAIGPTTokenizer, pipeline\n",
    "from transformers import logging\n",
    "logging.set_verbosity_error()\n",
    "\n",
    "import warnings\n",
    "warnings.filterwarnings(\"ignore\")\n",
    "\n",
    "from tqdm.notebook import tqdm\n",
    "tqdm.pandas()\n",
    "\n",
    "from IPython.core.display import display, HTML\n",
    "display(HTML(\"<style>.container { width:95% !important; }</style>\"))"
   ]
  },
  {
   "cell_type": "code",
   "execution_count": null,
   "metadata": {},
   "outputs": [],
   "source": [
    "# 1 indicated AI produced, 0 indicates human produced"
   ]
  },
  {
   "cell_type": "code",
   "execution_count": null,
   "metadata": {},
   "outputs": [],
   "source": [
    "def readJSON(location):\n",
    "    with open(location, encoding = \"utf-8\") as outfile:\n",
    "        data = json.load(outfile)\n",
    "    return pd.DataFrame(data)"
   ]
  },
  {
   "cell_type": "code",
   "execution_count": null,
   "metadata": {},
   "outputs": [],
   "source": [
    "def getRobertaScore(text):\n",
    "    \"\"\"\n",
    "    https://huggingface.co/roberta-base-openai-detector\n",
    "    \"\"\"\n",
    "    model = pipeline(\"text-classification\", model=\"roberta-base-openai-detector\")\n",
    "    vals = model(text, top_k=3)\n",
    "    flag = sorted(vals, key = lambda x: x[\"score\"])[-1][\"label\"]\n",
    "    flag = 1 if flag == \"Fake\" else 0\n",
    "    \n",
    "    return {**{f\"roberta_score_{j['label']}\": j[\"score\"] for j in vals}, **{\"roberta_Label\": flag}}\n",
    "        "
   ]
  },
  {
   "cell_type": "code",
   "execution_count": null,
   "metadata": {},
   "outputs": [],
   "source": [
    "def getRobertaLargeScore(text):\n",
    "    \"\"\"\n",
    "    https://huggingface.co/roberta-large-openai-detector\n",
    "    \"\"\"\n",
    "    model = pipeline(\"text-classification\", model=\"roberta-large-openai-detector\")\n",
    "    vals = model(text, top_k=3)\n",
    "    flag = sorted(vals, key = lambda x: x[\"score\"])[-1][\"label\"]\n",
    "    flag = 1 if flag == \"LABEL_0\" else 0\n",
    "    \n",
    "    d = {\"LABEL_1\":\"0\", \"LABEL_0\":1}\n",
    "    \n",
    "    return {**{f\"roberta_large_score_{d[j['label']]}\": j[\"score\"] for j in vals}, **{\"roberta_large_Label\": flag}}\n"
   ]
  },
  {
   "cell_type": "code",
   "execution_count": null,
   "metadata": {},
   "outputs": [],
   "source": [
    "def getDetectGPTScore(text):\n",
    "    \"\"\"\n",
    "    https://www.arxiv-vanity.com/papers/2301.11305/\n",
    "    Slow though...\n",
    "    \"\"\"\n",
    "    model = GPT2PPL()\n",
    "    vals = model(text, len(text), \"v1.1\")\n",
    "    flag = 1 - vals[0]\n",
    "    \n",
    "    return {\"gpt_detect_mean_score\": vals[2], \n",
    "            \"gpt_detect_mean_probability\": vals[3], \n",
    "            \"gpt_detect_Label\": flag}"
   ]
  },
  {
   "cell_type": "code",
   "execution_count": null,
   "metadata": {},
   "outputs": [],
   "source": [
    "def getGPTZeroScore(text):\n",
    "    \"\"\"\n",
    "    https://gptzero.me/\n",
    "    \"\"\"\n",
    "    model = GPT2PPL()\n",
    "    vals = model(text, None, \"v1\")\n",
    "    flag = 1 - vals[0][\"label\"]\n",
    "    \n",
    "    return {\"gpt_zero_Perplexity\": vals[0][\"Perplexity\"], \n",
    "            \"gpt_zero_Burtiness\": vals[0][\"Burstiness\"], \n",
    "            \"gpt_zero_Label\": flag}"
   ]
  },
  {
   "cell_type": "code",
   "execution_count": null,
   "metadata": {},
   "outputs": [],
   "source": [
    "def getGLTRScore(text, threshold = 0.7):\n",
    "    \"\"\"\n",
    "    http://gltr.io/\n",
    "    \"\"\"\n",
    "    gltr = GLTR()\n",
    "    def f(x):\n",
    "        return int(np.where(\n",
    "            x<10, 0, np.where(x<100, 1, np.where(x<1000, 2, 3))))\n",
    "\n",
    "    def p(x, vals):\n",
    "        return sum(np.array(vals) == x)/len(vals)\n",
    "\n",
    "    valsALL = gltr.check_probabilities(text)\n",
    "    vals = [f(i[0]) for i in valsALL[\"real_topk\"]]\n",
    "    \n",
    "    flag = 1 if p(0, vals) > threshold else 0 \n",
    "    \n",
    "    return {\"gltr_0\": p(0, vals), \n",
    "            \"gltr_1\": p(1, vals),\n",
    "            \"gltr_2\": p(2, vals),\n",
    "            \"gltr_3\": p(3, vals),\n",
    "            \"gltr_Label\": flag}"
   ]
  },
  {
   "cell_type": "code",
   "execution_count": null,
   "metadata": {},
   "outputs": [],
   "source": [
    "# %%time\n",
    "# roberta_dict = getRobertaScore(textSub)\n",
    "# roberta_large_dict = getRobertaLargeScore(textSub)\n",
    "# gpt_zero_dict = getGPTZeroScore(textSub)\n",
    "# gpt_detect_dict = getDetectGPTScore(textSub)\n",
    "# gltr_dict = getGLTRScore(textSub)\n",
    "\n",
    "# {**roberta_dict, **gpt_zero_dict, **gpt_detect_dict, **roberta_large_dict, **gltr_dict}"
   ]
  },
  {
   "cell_type": "code",
   "execution_count": null,
   "metadata": {},
   "outputs": [],
   "source": [
    "def isAIGenerated(text, chunksize = 300, step_size = 300):\n",
    "    \"\"\"\n",
    "    Detect if a function is AI generated or not.\n",
    "    This will return several scores, which are\n",
    "        * GPTZero - https://gptzero.me/\n",
    "        * Roberta - https://huggingface.co/roberta-base-openai-detector\n",
    "        * Roberta Large - https://huggingface.co/roberta-large-openai-detector\n",
    "        * Potentially GLTR in future... - http://gltr.io/dist/index.html\n",
    "    \n",
    "    ::param text: (str)\n",
    "    ::param chunksize: (int)\n",
    "    ::param step_size: (int)\n",
    "    \n",
    "    ::return: (dict[str: float])\n",
    "    \"\"\"\n",
    "    try:\n",
    "        data = pd.DataFrame()\n",
    "        savedText = []\n",
    "        textSplit = text.split()\n",
    "\n",
    "        for i in range(np.max(1, len(textSplit)//step_size)):\n",
    "            textSub = \" \".join(textSplit[step_size*i:(step_size*i) + chunksize])\n",
    "\n",
    "            roberta_dict = getRobertaScore(textSub)\n",
    "            roberta_large_dict = getRobertaLargeScore(textSub)\n",
    "            gpt_zero_dict = getGPTZeroScore(textSub)\n",
    "            gpt_detect_dict = {}#getDetectGPTScore(textSub)\n",
    "            gltr_dict = getGLTRScore(textSub)\n",
    "\n",
    "            data = data.append({**roberta_dict, **gpt_zero_dict, **gpt_detect_dict, **roberta_large_dict, **gltr_dict}, ignore_index=True)\n",
    "            savedText += [textSub]\n",
    "        data[\"Text\"] = savedText\n",
    "        return data\n",
    "    except Exception as e:\n",
    "        print(e)\n",
    "        print(len(textSub))\n",
    "        return pd.DataFrame()"
   ]
  },
  {
   "cell_type": "code",
   "execution_count": null,
   "metadata": {},
   "outputs": [],
   "source": [
    "allData = pd.DataFrame()\n",
    "metaData = pd.DataFrame()\n",
    "\n",
    "for LOC in os.listdir(\"TranscriptsHistory\"):\n",
    "    print(\"Starting \", LOC)\n",
    "    data = readJSON(\"TranscriptsHistory/\"+LOC)\n",
    "    \n",
    "    for row in tqdm(data.values):\n",
    "        symbol = row[0]\n",
    "        year = row[2]\n",
    "        quarter = row[3]\n",
    "        conversation = row[-1]\n",
    "        \n",
    "        values = isAIGenerated(conversation)\n",
    "        metrics = values.describe().reset_index()\n",
    "        \n",
    "        metrics[\"symbol\"] = symbol\n",
    "        metrics[\"year\"] = year\n",
    "        metrics[\"quarter\"] = quarter\n",
    "        \n",
    "        allData = pd.concat([allData, metrics])\n",
    "        metaData = pd.concat([metaData, values])\n",
    "    \n",
    "    allData.to_csv(\"MetricsOfEarningCallsV2.csv\")\n",
    "    metaData.to_excel(\"MetaOfEarningCallsV2.xlsx\")"
   ]
  },
  {
   "cell_type": "code",
   "execution_count": null,
   "metadata": {},
   "outputs": [],
   "source": []
  }
 ],
 "metadata": {
  "kernelspec": {
   "display_name": "Python 3",
   "language": "python",
   "name": "python3"
  },
  "language_info": {
   "codemirror_mode": {
    "name": "ipython",
    "version": 3
   },
   "file_extension": ".py",
   "mimetype": "text/x-python",
   "name": "python",
   "nbconvert_exporter": "python",
   "pygments_lexer": "ipython3",
   "version": "3.8.5"
  }
 },
 "nbformat": 4,
 "nbformat_minor": 4
}
